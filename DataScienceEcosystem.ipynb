{
 "cells": [
  {
   "cell_type": "markdown",
   "id": "e1e9212b-a18b-4e42-aaed-88c160c8625c",
   "metadata": {},
   "source": [
    "# Data Science Tools and Ecosystem"
   ]
  },
  {
   "cell_type": "markdown",
   "id": "24f3bd9b-15ab-4f9d-a6b4-319b9c8ed3c9",
   "metadata": {},
   "source": [
    "**Objectives**\n",
    "+ Create a markdown cell for an introduction\n",
    "+ Create a markdown cell to list data science languages\n",
    "+ Create a markdown cell with a table of Data Science tools\n",
    "+ Create a code cell to multiply and add numbers\n",
    "+ Create a code cell to convert minutes to hours"
   ]
  },
  {
   "cell_type": "markdown",
   "id": "3150f457-ba56-475c-9e64-f08a0508d26c",
   "metadata": {},
   "source": [
    "In this notebook, Data Science Tools and Ecosystem are summarized."
   ]
  },
  {
   "cell_type": "markdown",
   "id": "d70b0087-8c0f-49f7-920d-633a951db2ba",
   "metadata": {},
   "source": [
    "Some of the popular languages that Data Scientists use are:\n",
    "1. Python\n",
    "2. R\n",
    "3. SQL"
   ]
  },
  {
   "cell_type": "markdown",
   "id": "3b0ab3ac-2f73-4261-8c72-f592dc8a113e",
   "metadata": {},
   "source": [
    "Some of the commonly used libraries used by Data Scientists include:\n",
    "+ Pandas\n",
    "+ Numby \n",
    "+ Scikit-learn\n",
    "+ ggplot2"
   ]
  },
  {
   "cell_type": "markdown",
   "id": "6c71a6e6-f145-450d-9bfa-5ab29f33320a",
   "metadata": {},
   "source": [
    "|Data science tools|\n",
    "|------------------|\n",
    "|Jupyter Notebook|\n",
    "|RStudio|\n",
    "|VS Code|"
   ]
  },
  {
   "cell_type": "markdown",
   "id": "60215035-02e2-409f-a676-dc7a5b6bffbf",
   "metadata": {},
   "source": [
    "### Below are a few examples of evaluating arithmetic expressions in Python"
   ]
  },
  {
   "cell_type": "code",
   "execution_count": 2,
   "id": "54934d4e-2aa7-43c8-8a41-3c4fc1cbcb85",
   "metadata": {},
   "outputs": [
    {
     "data": {
      "text/plain": [
       "17"
      ]
     },
     "execution_count": 2,
     "metadata": {},
     "output_type": "execute_result"
    }
   ],
   "source": [
    "# This a simple arithmetic expression to mutiply then add integers\n",
    "(3*4)+5"
   ]
  },
  {
   "cell_type": "code",
   "execution_count": 3,
   "id": "3005c06b-5f47-4880-945b-d0c645a367cd",
   "metadata": {},
   "outputs": [
    {
     "data": {
      "text/plain": [
       "3.3333333333333335"
      ]
     },
     "execution_count": 3,
     "metadata": {},
     "output_type": "execute_result"
    }
   ],
   "source": [
    "# This will convert 200 minutes to hours by diving by 60\n",
    "200/60 "
   ]
  },
  {
   "cell_type": "markdown",
   "id": "8acb3ae6-8982-47ab-b48d-578c6d930942",
   "metadata": {},
   "source": [
    "## Author\n",
    "Omar Osama Elemam"
   ]
  },
  {
   "cell_type": "code",
   "execution_count": null,
   "id": "483ce590-bd03-41ad-a901-de2c79853b2b",
   "metadata": {},
   "outputs": [],
   "source": []
  }
 ],
 "metadata": {
  "kernelspec": {
   "display_name": "Python 3 (ipykernel)",
   "language": "python",
   "name": "python3"
  },
  "language_info": {
   "codemirror_mode": {
    "name": "ipython",
    "version": 3
   },
   "file_extension": ".py",
   "mimetype": "text/x-python",
   "name": "python",
   "nbconvert_exporter": "python",
   "pygments_lexer": "ipython3",
   "version": "3.11.8"
  }
 },
 "nbformat": 4,
 "nbformat_minor": 5
}
